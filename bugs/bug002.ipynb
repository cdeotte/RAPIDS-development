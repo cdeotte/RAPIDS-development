{
 "cells": [
  {
   "cell_type": "markdown",
   "metadata": {},
   "source": [
    "# Bug 002. Feb 26, 2020\n",
    "In the code below, function `loc` is called on a `cudf.DataFrame()` to get a set of 75 rows. The first row requested has index 2987000. but the first row returned is 2987064."
   ]
  },
  {
   "cell_type": "code",
   "execution_count": 1,
   "metadata": {
    "_kg_hide-input": true
   },
   "outputs": [
    {
     "name": "stdout",
     "output_type": "stream",
     "text": [
      "RAPIDS = 0.12.0\n"
     ]
    }
   ],
   "source": [
    "import cudf, numpy as np\n",
    "print('RAPIDS =',cudf.__version__)"
   ]
  },
  {
   "cell_type": "code",
   "execution_count": null,
   "metadata": {},
   "outputs": [],
   "source": []
  },
  {
   "cell_type": "code",
   "execution_count": 2,
   "metadata": {},
   "outputs": [],
   "source": [
    "df = cudf.DataFrame()\n",
    "df['a'] = np.array([2987000., 2987001., 2987002., 2987003., 2987004., 2987005.,\n",
    "       2987006., 2987007., 2987008., 2987009., 2987010., 2987011.,\n",
    "       2987012., 2987013., 2987014., 2987015., 2987016., 2987017.,\n",
    "       2987018., 2987019., 2987020., 2987021., 2987022., 2987023.,\n",
    "       2987024., 2987025., 2987026., 2987027., 2987028., 2987029.,\n",
    "       2987030., 2987031., 2987032., 2987033., 2987034., 2987035.,\n",
    "       2987036., 2987037., 2987038., 2987039., 2987040., 2987041.,\n",
    "       2987042., 2987043., 2987044., 2987045., 2987046., 2987047.,\n",
    "       2987048., 2987049., 2987050., 2987051., 2987052., 2987053.,\n",
    "       2987054., 2987055., 2987056., 2987057., 2987058., 2987059.,\n",
    "       2987060., 2987061., 2987062., 2987063., 2987064., 2987065.,\n",
    "       2987066., 2987067., 2987068., 2987069., 2987070., 2987071.,\n",
    "       2987072., 2987073., 2987074., 2987075., 2987076., 2987077.,\n",
    "       2987078., 2987079., 2987080., 2987081., 2987082., 2987083.,\n",
    "       2987084., 2987085., 2987086., 2987087., 2987088., 2987089.,\n",
    "       2987090., 2987091., 2987092., 2987093., 2987094., 2987095.,\n",
    "       2987096., 2987097., 2987098., 2987099.], dtype='float32')\n",
    "df['b'] = np.array([0, 0, 0, 0, 0, 0, 0, 0, 0, 0, 0, 0, 0, 0, 0, 0, 0, 0, 0, 0, 0, 0,\n",
    "       0, 0, 0, 0, 0, 0, 0, 0, 0, 0, 0, 0, 0, 0, 0, 0, 0, 0, 0, 0, 0, 0,\n",
    "       0, 0, 0, 0, 0, 0, 0, 0, 0, 0, 0, 0, 0, 0, 0, 0, 0, 0, 0, 0, 0, 0,\n",
    "       0, 0, 0, 0, 0, 0, 0, 0, 0, 0, 0, 0, 0, 0, 0, 0, 0, 0, 0, 0, 0, 0,\n",
    "       0, 0, 0, 0, 0, 0, 0, 0, 0, 0, 0, 0], dtype='int8')"
   ]
  },
  {
   "cell_type": "code",
   "execution_count": 3,
   "metadata": {},
   "outputs": [],
   "source": [
    "df = df.set_index('a')"
   ]
  },
  {
   "cell_type": "code",
   "execution_count": 4,
   "metadata": {},
   "outputs": [
    {
     "data": {
      "text/plain": [
       "array([2987000., 2987001., 2987002., 2987003., 2987004., 2987005.,\n",
       "       2987006., 2987007., 2987008., 2987009., 2987010., 2987011.,\n",
       "       2987012., 2987013., 2987014., 2987015., 2987016., 2987017.,\n",
       "       2987018., 2987019., 2987020., 2987021., 2987022., 2987023.,\n",
       "       2987024., 2987025., 2987026., 2987027., 2987028., 2987029.,\n",
       "       2987030., 2987031., 2987032., 2987033., 2987034., 2987035.,\n",
       "       2987036., 2987037., 2987038., 2987039., 2987040., 2987041.,\n",
       "       2987042., 2987043., 2987044., 2987045., 2987046., 2987047.,\n",
       "       2987048., 2987049., 2987050., 2987051., 2987052., 2987053.,\n",
       "       2987054., 2987055., 2987056., 2987057., 2987058., 2987059.,\n",
       "       2987060., 2987061., 2987062., 2987063., 2987064., 2987065.,\n",
       "       2987066., 2987067., 2987068., 2987069., 2987070., 2987071.,\n",
       "       2987072., 2987073., 2987074.], dtype=float32)"
      ]
     },
     "execution_count": 4,
     "metadata": {},
     "output_type": "execute_result"
    }
   ],
   "source": [
    "split = 3*len(df)//4\n",
    "idxA = df.index[:split]\n",
    "idxB = df.index[split:]\n",
    "np.array(idxA)"
   ]
  },
  {
   "cell_type": "code",
   "execution_count": 5,
   "metadata": {},
   "outputs": [
    {
     "data": {
      "text/html": [
       "<div>\n",
       "<style scoped>\n",
       "    .dataframe tbody tr th:only-of-type {\n",
       "        vertical-align: middle;\n",
       "    }\n",
       "\n",
       "    .dataframe tbody tr th {\n",
       "        vertical-align: top;\n",
       "    }\n",
       "\n",
       "    .dataframe thead th {\n",
       "        text-align: right;\n",
       "    }\n",
       "</style>\n",
       "<table border=\"1\" class=\"dataframe\">\n",
       "  <thead>\n",
       "    <tr style=\"text-align: right;\">\n",
       "      <th></th>\n",
       "      <th>b</th>\n",
       "    </tr>\n",
       "    <tr>\n",
       "      <th>a</th>\n",
       "      <th></th>\n",
       "    </tr>\n",
       "  </thead>\n",
       "  <tbody>\n",
       "    <tr>\n",
       "      <th>2987064.0</th>\n",
       "      <td>0</td>\n",
       "    </tr>\n",
       "    <tr>\n",
       "      <th>2987065.0</th>\n",
       "      <td>0</td>\n",
       "    </tr>\n",
       "    <tr>\n",
       "      <th>2987066.0</th>\n",
       "      <td>0</td>\n",
       "    </tr>\n",
       "    <tr>\n",
       "      <th>2987067.0</th>\n",
       "      <td>0</td>\n",
       "    </tr>\n",
       "    <tr>\n",
       "      <th>2987068.0</th>\n",
       "      <td>0</td>\n",
       "    </tr>\n",
       "    <tr>\n",
       "      <th>...</th>\n",
       "      <td>...</td>\n",
       "    </tr>\n",
       "    <tr>\n",
       "      <th>2987027.0</th>\n",
       "      <td>0</td>\n",
       "    </tr>\n",
       "    <tr>\n",
       "      <th>2987028.0</th>\n",
       "      <td>0</td>\n",
       "    </tr>\n",
       "    <tr>\n",
       "      <th>2987029.0</th>\n",
       "      <td>0</td>\n",
       "    </tr>\n",
       "    <tr>\n",
       "      <th>2987030.0</th>\n",
       "      <td>0</td>\n",
       "    </tr>\n",
       "    <tr>\n",
       "      <th>2987031.0</th>\n",
       "      <td>0</td>\n",
       "    </tr>\n",
       "  </tbody>\n",
       "</table>\n",
       "<p>75 rows × 1 columns</p>\n",
       "</div>"
      ],
      "text/plain": [
       "           b\n",
       "a           \n",
       "2987064.0  0\n",
       "2987065.0  0\n",
       "2987066.0  0\n",
       "2987067.0  0\n",
       "2987068.0  0\n",
       "...       ..\n",
       "2987027.0  0\n",
       "2987028.0  0\n",
       "2987029.0  0\n",
       "2987030.0  0\n",
       "2987031.0  0\n",
       "\n",
       "[75 rows x 1 columns]"
      ]
     },
     "execution_count": 5,
     "metadata": {},
     "output_type": "execute_result"
    }
   ],
   "source": [
    "df.loc[idxA]"
   ]
  }
 ],
 "metadata": {
  "kernelspec": {
   "display_name": "Python 3",
   "language": "python",
   "name": "python3"
  },
  "language_info": {
   "codemirror_mode": {
    "name": "ipython",
    "version": 3
   },
   "file_extension": ".py",
   "mimetype": "text/x-python",
   "name": "python",
   "nbconvert_exporter": "python",
   "pygments_lexer": "ipython3",
   "version": "3.7.6"
  }
 },
 "nbformat": 4,
 "nbformat_minor": 1
}
