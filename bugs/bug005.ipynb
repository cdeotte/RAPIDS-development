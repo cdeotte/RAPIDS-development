{
 "cells": [
  {
   "cell_type": "markdown",
   "id": "2523f5e2",
   "metadata": {},
   "source": [
    "# RAPIDS cuDF bug. June 7, 2022\n",
    "This notebook shows a bug in the RAPIDS cuDF transform function. We use the 3GB dataset from here  \n",
    "https://www.kaggle.com/datasets/raddar/amex-data-integer-dtypes-parquet-format?select=test.parquet"
   ]
  },
  {
   "cell_type": "code",
   "execution_count": 13,
   "id": "7ab3b799",
   "metadata": {},
   "outputs": [
    {
     "data": {
      "text/plain": [
       "'22.04.00'"
      ]
     },
     "execution_count": 13,
     "metadata": {},
     "output_type": "execute_result"
    }
   ],
   "source": [
    "import matplotlib.pyplot as plt\n",
    "\n",
    "import cudf\n",
    "cudf.__version__"
   ]
  },
  {
   "cell_type": "markdown",
   "id": "a2c2685c",
   "metadata": {},
   "source": [
    "# Index without Consecutive Numbers\n",
    "By sorting we cause the index to have non-consectutive numbers. This causes RAPIDS cuDF transform to return incorrect results"
   ]
  },
  {
   "cell_type": "code",
   "execution_count": 34,
   "id": "81b2ced3",
   "metadata": {},
   "outputs": [],
   "source": [
    "PATH = '../../May-2022/may-32-22-AMEX/'\n",
    "df = cudf.read_parquet(PATH+'test.parquet')\n",
    "df['customer_ID'] = df['customer_ID'].str[-16:].str.hex_to_int().astype('int64')\n",
    "df = df.sort_values('customer_ID')"
   ]
  },
  {
   "cell_type": "code",
   "execution_count": 35,
   "id": "64aa4fd1",
   "metadata": {},
   "outputs": [
    {
     "data": {
      "text/plain": [
       "0.6389674118471806"
      ]
     },
     "execution_count": 35,
     "metadata": {},
     "output_type": "execute_result"
    }
   ],
   "source": [
    "df['P_2_max'] = df.groupby('customer_ID').P_2.transform('max')\n",
    "tmp = df.groupby('customer_ID').P_2_max.agg('std')\n",
    "tmp.max()"
   ]
  },
  {
   "cell_type": "code",
   "execution_count": 41,
   "id": "5a6b11fd",
   "metadata": {},
   "outputs": [
    {
     "data": {
      "text/html": [
       "<div>\n",
       "<style scoped>\n",
       "    .dataframe tbody tr th:only-of-type {\n",
       "        vertical-align: middle;\n",
       "    }\n",
       "\n",
       "    .dataframe tbody tr th {\n",
       "        vertical-align: top;\n",
       "    }\n",
       "\n",
       "    .dataframe thead th {\n",
       "        text-align: right;\n",
       "    }\n",
       "</style>\n",
       "<table border=\"1\" class=\"dataframe\">\n",
       "  <thead>\n",
       "    <tr style=\"text-align: right;\">\n",
       "      <th></th>\n",
       "      <th>customer_ID</th>\n",
       "      <th>P_2_max</th>\n",
       "    </tr>\n",
       "  </thead>\n",
       "  <tbody>\n",
       "    <tr>\n",
       "      <th>5118281</th>\n",
       "      <td>-35742134755167706</td>\n",
       "      <td>-0.105689</td>\n",
       "    </tr>\n",
       "    <tr>\n",
       "      <th>5118282</th>\n",
       "      <td>-35742134755167706</td>\n",
       "      <td>-0.105689</td>\n",
       "    </tr>\n",
       "    <tr>\n",
       "      <th>5118283</th>\n",
       "      <td>-35742134755167706</td>\n",
       "      <td>-0.105689</td>\n",
       "    </tr>\n",
       "    <tr>\n",
       "      <th>5118284</th>\n",
       "      <td>-35742134755167706</td>\n",
       "      <td>-0.105689</td>\n",
       "    </tr>\n",
       "    <tr>\n",
       "      <th>5118285</th>\n",
       "      <td>-35742134755167706</td>\n",
       "      <td>0.936756</td>\n",
       "    </tr>\n",
       "    <tr>\n",
       "      <th>5118286</th>\n",
       "      <td>-35742134755167706</td>\n",
       "      <td>0.936756</td>\n",
       "    </tr>\n",
       "    <tr>\n",
       "      <th>5118287</th>\n",
       "      <td>-35742134755167706</td>\n",
       "      <td>0.936756</td>\n",
       "    </tr>\n",
       "    <tr>\n",
       "      <th>5118288</th>\n",
       "      <td>-35742134755167706</td>\n",
       "      <td>0.936756</td>\n",
       "    </tr>\n",
       "    <tr>\n",
       "      <th>5118289</th>\n",
       "      <td>-35742134755167706</td>\n",
       "      <td>0.936756</td>\n",
       "    </tr>\n",
       "    <tr>\n",
       "      <th>5118290</th>\n",
       "      <td>-35742134755167706</td>\n",
       "      <td>0.936756</td>\n",
       "    </tr>\n",
       "    <tr>\n",
       "      <th>5118291</th>\n",
       "      <td>-35742134755167706</td>\n",
       "      <td>0.936756</td>\n",
       "    </tr>\n",
       "    <tr>\n",
       "      <th>5118292</th>\n",
       "      <td>-35742134755167706</td>\n",
       "      <td>0.936756</td>\n",
       "    </tr>\n",
       "    <tr>\n",
       "      <th>5118293</th>\n",
       "      <td>-35742134755167706</td>\n",
       "      <td>0.936756</td>\n",
       "    </tr>\n",
       "  </tbody>\n",
       "</table>\n",
       "</div>"
      ],
      "text/plain": [
       "               customer_ID   P_2_max\n",
       "5118281 -35742134755167706 -0.105689\n",
       "5118282 -35742134755167706 -0.105689\n",
       "5118283 -35742134755167706 -0.105689\n",
       "5118284 -35742134755167706 -0.105689\n",
       "5118285 -35742134755167706  0.936756\n",
       "5118286 -35742134755167706  0.936756\n",
       "5118287 -35742134755167706  0.936756\n",
       "5118288 -35742134755167706  0.936756\n",
       "5118289 -35742134755167706  0.936756\n",
       "5118290 -35742134755167706  0.936756\n",
       "5118291 -35742134755167706  0.936756\n",
       "5118292 -35742134755167706  0.936756\n",
       "5118293 -35742134755167706  0.936756"
      ]
     },
     "execution_count": 41,
     "metadata": {},
     "output_type": "execute_result"
    }
   ],
   "source": [
    "i = tmp.loc[tmp>0.5].index[0]\n",
    "df.loc[df.customer_ID==i,['customer_ID','P_2_max']]"
   ]
  },
  {
   "cell_type": "markdown",
   "id": "9f55360b",
   "metadata": {},
   "source": [
    "# Without Sort\n",
    "If we don't sort the dataframe, then index has consecutive numbers and transform works correctly"
   ]
  },
  {
   "cell_type": "code",
   "execution_count": 42,
   "id": "4d9930ce",
   "metadata": {},
   "outputs": [],
   "source": [
    "df = cudf.read_parquet(PATH+'test.parquet')\n",
    "df['customer_ID'] = df['customer_ID'].str[-16:].str.hex_to_int().astype('int64')"
   ]
  },
  {
   "cell_type": "code",
   "execution_count": 43,
   "id": "18c89212",
   "metadata": {},
   "outputs": [
    {
     "data": {
      "text/plain": [
       "1.9088763446849327e-07"
      ]
     },
     "execution_count": 43,
     "metadata": {},
     "output_type": "execute_result"
    }
   ],
   "source": [
    "df['P_2_max'] = df.groupby('customer_ID').P_2.transform('max')\n",
    "tmp = df.groupby('customer_ID').P_2_max.agg('std')\n",
    "tmp.max()"
   ]
  },
  {
   "cell_type": "markdown",
   "id": "66e39991",
   "metadata": {},
   "source": [
    "# Reset Index\n",
    "If we reset index after sort, then index has consecutive numbers and transform works correctly"
   ]
  },
  {
   "cell_type": "code",
   "execution_count": 44,
   "id": "656f2868",
   "metadata": {},
   "outputs": [],
   "source": [
    "df = cudf.read_parquet(PATH+'test.parquet')\n",
    "df['customer_ID'] = df['customer_ID'].str[-16:].str.hex_to_int().astype('int64')\n",
    "df = df.sort_values('customer_ID').reset_index()"
   ]
  },
  {
   "cell_type": "code",
   "execution_count": 45,
   "id": "77196367",
   "metadata": {},
   "outputs": [
    {
     "data": {
      "text/plain": [
       "1.9088763446849327e-07"
      ]
     },
     "execution_count": 45,
     "metadata": {},
     "output_type": "execute_result"
    }
   ],
   "source": [
    "df['P_2_max'] = df.groupby('customer_ID').P_2.transform('max')\n",
    "tmp = df.groupby('customer_ID').P_2_max.agg('std')\n",
    "tmp.max()"
   ]
  },
  {
   "cell_type": "markdown",
   "id": "223e3ceb",
   "metadata": {},
   "source": [
    "# Agg then Merge\n",
    "If we use aggregation then merge, it works without index having consecutive numbers"
   ]
  },
  {
   "cell_type": "code",
   "execution_count": 57,
   "id": "289b6352",
   "metadata": {},
   "outputs": [],
   "source": [
    "df = cudf.read_parquet(PATH+'test.parquet')\n",
    "df['customer_ID'] = df['customer_ID'].str[-16:].str.hex_to_int().astype('int64')\n",
    "df = df.sort_values('customer_ID')"
   ]
  },
  {
   "cell_type": "code",
   "execution_count": 58,
   "id": "f6cd70f9",
   "metadata": {},
   "outputs": [
    {
     "data": {
      "text/plain": [
       "1.9088763446849327e-07"
      ]
     },
     "execution_count": 58,
     "metadata": {},
     "output_type": "execute_result"
    }
   ],
   "source": [
    "tmp = df.groupby('customer_ID').P_2.agg('max').rename('P_2_max')\n",
    "df = df.merge(tmp, left_on='customer_ID', right_index=True)\n",
    "tmp = df.groupby('customer_ID').P_2_max.agg('std')\n",
    "tmp.max()"
   ]
  }
 ],
 "metadata": {
  "kernelspec": {
   "display_name": "Python 3 (ipykernel)",
   "language": "python",
   "name": "python3"
  },
  "language_info": {
   "codemirror_mode": {
    "name": "ipython",
    "version": 3
   },
   "file_extension": ".py",
   "mimetype": "text/x-python",
   "name": "python",
   "nbconvert_exporter": "python",
   "pygments_lexer": "ipython3",
   "version": "3.8.13"
  }
 },
 "nbformat": 4,
 "nbformat_minor": 5
}
