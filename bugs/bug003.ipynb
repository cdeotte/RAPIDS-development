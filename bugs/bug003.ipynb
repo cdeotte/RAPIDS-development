{
 "cells": [
  {
   "cell_type": "markdown",
   "metadata": {},
   "source": [
    "# RAPIDS cuML kNN Bug Report. April 9, 2020\n",
    "If you run this code with boolean `USE_KNN = False` it runs fine. If you run this code with `USE_KNN = True` it encounters a `cudaErrorIllegalAddress`. You can download the datasets `X_train.npy`, `y_train.npy`, and `X_test.npy` from the folder `data` in this GitHub repo ( https://github.com/cdeotte/RAPIDS-development/tree/master/bugs/data ). The same error occurs when using cuML 0.12.0"
   ]
  },
  {
   "cell_type": "code",
   "execution_count": 1,
   "metadata": {},
   "outputs": [
    {
     "data": {
      "text/plain": [
       "'0.13.0+0.g7544c43.dirty'"
      ]
     },
     "execution_count": 1,
     "metadata": {},
     "output_type": "execute_result"
    }
   ],
   "source": [
    "import numpy as np, pandas as pd\n",
    "import cudf, cuml, cupy\n",
    "from cuml.neighbors import NearestNeighbors, KNeighborsClassifier\n",
    "cuml.__version__"
   ]
  },
  {
   "cell_type": "code",
   "execution_count": 2,
   "metadata": {},
   "outputs": [],
   "source": [
    "X_train = np.load('X_train.npy')\n",
    "y_train = np.load('y_train.npy')\n",
    "X_test = np.load('X_test.npy')"
   ]
  },
  {
   "cell_type": "code",
   "execution_count": 3,
   "metadata": {},
   "outputs": [],
   "source": [
    "USE_KNN = True"
   ]
  },
  {
   "cell_type": "code",
   "execution_count": 4,
   "metadata": {},
   "outputs": [
    {
     "name": "stderr",
     "output_type": "stream",
     "text": [
      "/home/chris/anaconda3/envs/rapids7/lib/python3.7/site-packages/cuml/utils/input_utils.py:188: UserWarning: Expected column ('F') major order, but got the opposite. Converting data, this will result in additional memory utilization.\n",
      "  warnings.warn(\"Expected \" + order_to_str(order) + \" major order, \"\n"
     ]
    }
   ],
   "source": [
    "if USE_KNN:\n",
    "    model = KNeighborsClassifier(n_neighbors=3)\n",
    "    model.fit(X_train,y_train)"
   ]
  },
  {
   "cell_type": "code",
   "execution_count": 5,
   "metadata": {},
   "outputs": [
    {
     "ename": "CudaRuntimeError",
     "evalue": "Error! cudaErrorIllegalAddress reason='an illegal memory access was encountered' extraMsg='Stream sync'",
     "output_type": "error",
     "traceback": [
      "\u001b[0;31m---------------------------------------------------------------------------\u001b[0m",
      "\u001b[0;31mCudaRuntimeError\u001b[0m                          Traceback (most recent call last)",
      "\u001b[0;32m<ipython-input-5-34a154e58bf9>\u001b[0m in \u001b[0;36m<module>\u001b[0;34m\u001b[0m\n\u001b[1;32m      1\u001b[0m \u001b[0;32mif\u001b[0m \u001b[0mUSE_KNN\u001b[0m\u001b[0;34m:\u001b[0m\u001b[0;34m\u001b[0m\u001b[0;34m\u001b[0m\u001b[0m\n\u001b[0;32m----> 2\u001b[0;31m     \u001b[0mpred\u001b[0m \u001b[0;34m=\u001b[0m \u001b[0mpp\u001b[0m \u001b[0;34m=\u001b[0m \u001b[0mmodel\u001b[0m\u001b[0;34m.\u001b[0m\u001b[0mpredict\u001b[0m\u001b[0;34m(\u001b[0m\u001b[0mX_test\u001b[0m\u001b[0;34m)\u001b[0m\u001b[0;34m\u001b[0m\u001b[0;34m\u001b[0m\u001b[0m\n\u001b[0m",
      "\u001b[0;32mcuml/neighbors/kneighbors_classifier.pyx\u001b[0m in \u001b[0;36mcuml.neighbors.kneighbors_classifier.KNeighborsClassifier.predict\u001b[0;34m()\u001b[0m\n",
      "\u001b[0;32mcuml/common/handle.pyx\u001b[0m in \u001b[0;36mcuml.common.handle.Handle.sync\u001b[0;34m()\u001b[0m\n",
      "\u001b[0;31mCudaRuntimeError\u001b[0m: Error! cudaErrorIllegalAddress reason='an illegal memory access was encountered' extraMsg='Stream sync'"
     ]
    }
   ],
   "source": [
    "if USE_KNN: \n",
    "    pred = pp = model.predict(X_test)"
   ]
  },
  {
   "cell_type": "code",
   "execution_count": null,
   "metadata": {},
   "outputs": [],
   "source": [
    "if not USE_KNN:\n",
    "    model = NearestNeighbors(n_neighbors=3)\n",
    "    model.fit(X_train)"
   ]
  },
  {
   "cell_type": "code",
   "execution_count": null,
   "metadata": {},
   "outputs": [],
   "source": [
    "if not USE_KNN:\n",
    "    distances, indices = model.kneighbors(X_test)"
   ]
  }
 ],
 "metadata": {
  "kernelspec": {
   "display_name": "Python 3",
   "language": "python",
   "name": "python3"
  },
  "language_info": {
   "codemirror_mode": {
    "name": "ipython",
    "version": 3
   },
   "file_extension": ".py",
   "mimetype": "text/x-python",
   "name": "python",
   "nbconvert_exporter": "python",
   "pygments_lexer": "ipython3",
   "version": "3.7.6"
  }
 },
 "nbformat": 4,
 "nbformat_minor": 4
}
