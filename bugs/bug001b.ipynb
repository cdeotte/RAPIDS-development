{
 "cells": [
  {
   "cell_type": "markdown",
   "metadata": {},
   "source": [
    "# Bug 001b. Jan 24, 2020\n",
    "\n",
    "The following notebook illustrates a bug with cuML v0.11 kNN. There are 3 ways to predict with cuML's kNN. You can use `predict()`, you can use `predict_proba()` and you can use `kneighbors()`. These 3 methods should all produce the same preditions. And they should agree with Scikit-learn's 3 types of predictions. Below you see that they do not.\n",
    "\n",
    "This is based on RAPIDS example notebook [here][1] which works correctly. When changing the variable named `use_gaussian` to `True` below uses different data and then works correctly.\n",
    "\n",
    "[1]: https://github.com/rapidsai/notebooks/blob/branch-0.13/cuml/kneighbors_classifier_demo.ipynb"
   ]
  },
  {
   "cell_type": "code",
   "execution_count": 1,
   "metadata": {},
   "outputs": [],
   "source": [
    "import os\n",
    "\n",
    "import numpy as np\n",
    "\n",
    "from sklearn.datasets import make_blobs\n",
    "\n",
    "import pandas as pd\n",
    "import cudf as gd\n",
    "\n",
    "from sklearn.neighbors import KNeighborsClassifier as skKNC\n",
    "from cuml.neighbors import KNeighborsClassifier as cumlKNC\n",
    "\n",
    "from scipy import stats\n",
    "from cuml.neighbors import NearestNeighbors as cuNearestNeighbors\n",
    "from sklearn.neighbors import NearestNeighbors as skKNearestNeighbors"
   ]
  },
  {
   "cell_type": "markdown",
   "metadata": {},
   "source": [
    "## Define Parameters"
   ]
  },
  {
   "cell_type": "code",
   "execution_count": 2,
   "metadata": {},
   "outputs": [],
   "source": [
    "n_samples = 2**17\n",
    "n_features = 40\n",
    "\n",
    "n_query = 5000\n",
    "\n",
    "n_neighbors = 4"
   ]
  },
  {
   "cell_type": "markdown",
   "metadata": {},
   "source": [
    "## Generate Data\n",
    "\n",
    "### Host"
   ]
  },
  {
   "cell_type": "code",
   "execution_count": 3,
   "metadata": {},
   "outputs": [],
   "source": [
    "use_gaussian = False"
   ]
  },
  {
   "cell_type": "code",
   "execution_count": 4,
   "metadata": {},
   "outputs": [],
   "source": [
    "if use_gaussian:\n",
    "    X_host_train, y_host_train = make_blobs(\n",
    "       n_samples=n_samples, n_features=n_features, centers=5, random_state=0)\n",
    "\n",
    "    X_host_train = pd.DataFrame(X_host_train)\n",
    "    y_host_train = pd.DataFrame(y_host_train)\n",
    "\n",
    "    X_host_test, y_host_test = make_blobs(\n",
    "       n_samples=n_query, n_features=n_features, centers=5, random_state=0)\n",
    "\n",
    "    X_host_test = pd.DataFrame(X_host_test)\n",
    "    y_host_test = pd.DataFrame(y_host_test)"
   ]
  },
  {
   "cell_type": "code",
   "execution_count": 5,
   "metadata": {},
   "outputs": [],
   "source": [
    "if not use_gaussian:\n",
    "    X_host_train = pd.DataFrame( np.random.uniform(0,1,(n_samples,n_features)) )\n",
    "    y_host_train = pd.DataFrame( np.random.randint(0,5,(n_samples,1)) )\n",
    "    X_host_test = pd.DataFrame( np.random.uniform(0,1,(n_query,n_features)) )\n",
    "    y_host_test = pd.DataFrame( np.random.randint(0,5,(n_query,1)) )"
   ]
  },
  {
   "cell_type": "markdown",
   "metadata": {},
   "source": [
    "### Device"
   ]
  },
  {
   "cell_type": "code",
   "execution_count": 6,
   "metadata": {},
   "outputs": [],
   "source": [
    "X_device_train = gd.DataFrame.from_pandas(X_host_train)\n",
    "y_device_train = gd.DataFrame.from_pandas(y_host_train)"
   ]
  },
  {
   "cell_type": "code",
   "execution_count": 7,
   "metadata": {},
   "outputs": [],
   "source": [
    "X_device_test = gd.DataFrame.from_pandas(X_host_test)\n",
    "y_device_test = gd.DataFrame.from_pandas(y_host_test)"
   ]
  },
  {
   "cell_type": "markdown",
   "metadata": {},
   "source": [
    "## Scikit-learn Model"
   ]
  },
  {
   "cell_type": "code",
   "execution_count": 8,
   "metadata": {},
   "outputs": [
    {
     "name": "stderr",
     "output_type": "stream",
     "text": [
      "/home/chris/anaconda3/envs/rapids3/lib/python3.7/site-packages/ipykernel_launcher.py:2: DataConversionWarning: A column-vector y was passed when a 1d array was expected. Please change the shape of y to (n_samples, ), for example using ravel().\n",
      "  \n"
     ]
    },
    {
     "name": "stdout",
     "output_type": "stream",
     "text": [
      "CPU times: user 1min 19s, sys: 17 s, total: 1min 36s\n",
      "Wall time: 33.9 s\n"
     ]
    }
   ],
   "source": [
    "%%time\n",
    "knn_sk = skKNC(algorithm=\"brute\", n_neighbors=n_neighbors, n_jobs=6)\n",
    "knn_sk.fit(X_host_train, y_host_train)\n",
    "\n",
    "sk_result = knn_sk.predict(X_host_test)\n",
    "sk_result_p = knn_sk.predict_proba(X_host_test)"
   ]
  },
  {
   "cell_type": "code",
   "execution_count": 9,
   "metadata": {},
   "outputs": [
    {
     "data": {
      "text/plain": [
       "array([1, 0, 1, 4, 0])"
      ]
     },
     "execution_count": 9,
     "metadata": {},
     "output_type": "execute_result"
    }
   ],
   "source": [
    "sk_result[:5]"
   ]
  },
  {
   "cell_type": "code",
   "execution_count": 10,
   "metadata": {},
   "outputs": [
    {
     "data": {
      "text/plain": [
       "array([1, 0, 1, 4, 0])"
      ]
     },
     "execution_count": 10,
     "metadata": {},
     "output_type": "execute_result"
    }
   ],
   "source": [
    "sk_result_p.argmax(axis=1)[:5]"
   ]
  },
  {
   "cell_type": "code",
   "execution_count": 11,
   "metadata": {},
   "outputs": [],
   "source": [
    "model = skKNearestNeighbors(n_neighbors=n_neighbors,n_jobs=6)\n",
    "model.fit(X_host_train)\n",
    "distances, indices = model.kneighbors(X_host_test)"
   ]
  },
  {
   "cell_type": "code",
   "execution_count": 12,
   "metadata": {},
   "outputs": [
    {
     "name": "stdout",
     "output_type": "stream",
     "text": [
      "0 [0 1 2 1] [1]\n",
      "1 [1 0 0 0] [0]\n",
      "2 [1 1 1 3] [1]\n",
      "3 [2 4 4 4] [4]\n",
      "4 [0 4 1 0] [0]\n"
     ]
    }
   ],
   "source": [
    "for i in range(5):\n",
    "    d = y_host_train.values.flatten()[ indices[i,:].astype(int) ]\n",
    "    print(i, d, stats.mode(d)[0] )"
   ]
  },
  {
   "cell_type": "markdown",
   "metadata": {},
   "source": [
    "## cuML Model with cuDF input"
   ]
  },
  {
   "cell_type": "code",
   "execution_count": 13,
   "metadata": {},
   "outputs": [
    {
     "name": "stdout",
     "output_type": "stream",
     "text": [
      "CPU times: user 1.68 s, sys: 300 ms, total: 1.98 s\n",
      "Wall time: 1.98 s\n"
     ]
    }
   ],
   "source": [
    "%%time\n",
    "knn_cuml = cumlKNC(n_neighbors=n_neighbors)\n",
    "knn_cuml.fit(X_device_train, y_device_train)\n",
    "\n",
    "cuml_result = knn_cuml.predict(X_device_test)\n",
    "cuml_result_p = knn_cuml.predict_proba(X_device_test)"
   ]
  },
  {
   "cell_type": "code",
   "execution_count": 14,
   "metadata": {},
   "outputs": [
    {
     "data": {
      "text/plain": [
       "array([2, 1, 3, 4, 4], dtype=int32)"
      ]
     },
     "execution_count": 14,
     "metadata": {},
     "output_type": "execute_result"
    }
   ],
   "source": [
    "cuml_result.iloc[:5,0].to_array()"
   ]
  },
  {
   "cell_type": "code",
   "execution_count": 15,
   "metadata": {},
   "outputs": [
    {
     "data": {
      "text/plain": [
       "array([1, 0, 1, 4, 0])"
      ]
     },
     "execution_count": 15,
     "metadata": {},
     "output_type": "execute_result"
    }
   ],
   "source": [
    "cuml_result_p.to_pandas().values.argmax(axis=1)[:5]"
   ]
  },
  {
   "cell_type": "code",
   "execution_count": 16,
   "metadata": {},
   "outputs": [
    {
     "name": "stdout",
     "output_type": "stream",
     "text": [
      "0 [0 1 2 1] [1]\n",
      "1 [1 0 0 0] [0]\n",
      "2 [1 1 1 3] [1]\n",
      "3 [2 4 4 4] [4]\n",
      "4 [0 4 1 0] [0]\n"
     ]
    }
   ],
   "source": [
    "model = cuNearestNeighbors(n_neighbors=n_neighbors)\n",
    "model.fit(X_device_train)\n",
    "distances, indices = model.kneighbors(X_device_test)\n",
    "for i in range(5):\n",
    "    d = y_device_train.iloc[:,0][ indices.iloc[i,:] ].to_array()\n",
    "    print(i, d, stats.mode(d)[0] )"
   ]
  },
  {
   "cell_type": "markdown",
   "metadata": {},
   "source": [
    "## cuML Model with NumPy input"
   ]
  },
  {
   "cell_type": "code",
   "execution_count": 17,
   "metadata": {},
   "outputs": [
    {
     "name": "stderr",
     "output_type": "stream",
     "text": [
      "/home/chris/anaconda3/envs/rapids3/lib/python3.7/site-packages/cuml/utils/input_utils.py:222: UserWarning: Expected column ('F') major order, but got the opposite. Converting data, this will result in additional memory utilization.\n",
      "  warnings.warn(\"Expected \" + order_to_str(order) + \" major order, \"\n"
     ]
    },
    {
     "name": "stdout",
     "output_type": "stream",
     "text": [
      "CPU times: user 216 ms, sys: 156 ms, total: 372 ms\n",
      "Wall time: 370 ms\n"
     ]
    }
   ],
   "source": [
    "%%time\n",
    "knn_cuml = cumlKNC(n_neighbors=n_neighbors)\n",
    "knn_cuml.fit(X_host_train.values, y_host_train.values)\n",
    "\n",
    "cuml_result2 = knn_cuml.predict(X_host_test.values)\n",
    "cuml_result2_p = knn_cuml.predict_proba(X_host_test.values)"
   ]
  },
  {
   "cell_type": "code",
   "execution_count": 18,
   "metadata": {},
   "outputs": [
    {
     "data": {
      "text/plain": [
       "array([2, 1, 3, 4, 4], dtype=int32)"
      ]
     },
     "execution_count": 18,
     "metadata": {},
     "output_type": "execute_result"
    }
   ],
   "source": [
    "cuml_result2[:5]"
   ]
  },
  {
   "cell_type": "code",
   "execution_count": 19,
   "metadata": {},
   "outputs": [
    {
     "data": {
      "text/plain": [
       "array([0, 0, 0, 0, 0])"
      ]
     },
     "execution_count": 19,
     "metadata": {},
     "output_type": "execute_result"
    }
   ],
   "source": [
    "cuml_result2_p.argmax(axis=1)[:5]"
   ]
  },
  {
   "cell_type": "code",
   "execution_count": 20,
   "metadata": {},
   "outputs": [
    {
     "name": "stdout",
     "output_type": "stream",
     "text": [
      "0 [0 1 2 1] [1]\n",
      "1 [1 0 0 0] [0]\n",
      "2 [1 1 1 3] [1]\n",
      "3 [2 4 4 4] [4]\n",
      "4 [0 4 1 0] [0]\n"
     ]
    }
   ],
   "source": [
    "model = cuNearestNeighbors(n_neighbors=n_neighbors)\n",
    "model.fit(X_host_train.values)\n",
    "distances, indices = model.kneighbors(X_host_test.values)\n",
    "for i in range(5):\n",
    "    d = y_host_train.values.flatten()[ indices[i,:].astype(int) ]\n",
    "    print(i, d, stats.mode(d)[0] )"
   ]
  },
  {
   "cell_type": "markdown",
   "metadata": {},
   "source": [
    "## Compare Results"
   ]
  },
  {
   "cell_type": "code",
   "execution_count": 21,
   "metadata": {},
   "outputs": [
    {
     "name": "stdout",
     "output_type": "stream",
     "text": [
      "compare knn: cuml vs sklearn classes NOT equal\n"
     ]
    }
   ],
   "source": [
    "passed = np.array_equal(np.asarray(cuml_result.as_gpu_matrix())[:,0], sk_result)\n",
    "print('compare knn: cuml vs sklearn classes %s'%('equal'if passed else 'NOT equal'))"
   ]
  }
 ],
 "metadata": {
  "kernelspec": {
   "display_name": "Python 3",
   "language": "python",
   "name": "python3"
  },
  "language_info": {
   "codemirror_mode": {
    "name": "ipython",
    "version": 3
   },
   "file_extension": ".py",
   "mimetype": "text/x-python",
   "name": "python",
   "nbconvert_exporter": "python",
   "pygments_lexer": "ipython3",
   "version": "3.7.6"
  }
 },
 "nbformat": 4,
 "nbformat_minor": 4
}
