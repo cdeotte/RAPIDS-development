{
 "cells": [
  {
   "cell_type": "markdown",
   "metadata": {},
   "source": [
    "# XGBoost Config\n",
    "How do I get the config JSON from an XGBoost model?"
   ]
  },
  {
   "cell_type": "code",
   "execution_count": 1,
   "metadata": {},
   "outputs": [],
   "source": [
    "import numpy as np\n",
    "X_train = np.random.normal(0,1,(590540,217))\n",
    "X_train[:,-1] = np.random.randint(0,2,590540)\n",
    "split = 3*len(X_train)//4"
   ]
  },
  {
   "cell_type": "code",
   "execution_count": 2,
   "metadata": {},
   "outputs": [
    {
     "name": "stdout",
     "output_type": "stream",
     "text": [
      "XGBoost version: 1.0.0-SNAPSHOT\n"
     ]
    },
    {
     "name": "stderr",
     "output_type": "stream",
     "text": [
      "/home/chris/anaconda3/envs/rapids3/lib/python3.7/site-packages/xgboost/core.py:733: UserWarning: Use subset (sliced data) of np.ndarray is not recommended because it will generate extra copies and increase memory consumption\n",
      "  \"because it will generate extra copies and increase \" +\n"
     ]
    },
    {
     "name": "stdout",
     "output_type": "stream",
     "text": [
      "[0]\ttrain-auc:0.55666\tvalid-auc:0.50137\n",
      "Multiple eval metrics have been passed: 'valid-auc' will be used for early stopping.\n",
      "\n",
      "Will train until valid-auc hasn't improved in 100 rounds.\n",
      "[19]\ttrain-auc:0.84534\tvalid-auc:0.49849\n"
     ]
    }
   ],
   "source": [
    "import xgboost as xgb\n",
    "print(\"XGBoost version:\", xgb.__version__)\n",
    "\n",
    "xgb_parms = { \n",
    "    'n_estimators':2000,\n",
    "    'max_depth':12, \n",
    "    'learning_rate':0.02, \n",
    "    'subsample':0.8,\n",
    "    'colsample_bytree':0.4, \n",
    "    'missing':-1, \n",
    "    'eval_metric':'auc',\n",
    "    'objective':'binary:logistic',\n",
    "    'tree_method':'gpu_hist' \n",
    "}\n",
    "train = xgb.DMatrix(data=X_train[:split,:-1],label=X_train[:split,-1])\n",
    "valid = xgb.DMatrix(data=X_train[split:,:-1],label=X_train[split:,-1])\n",
    "clf = xgb.train(xgb_parms, dtrain=train,\n",
    "    num_boost_round=20,evals=[(train,'train'),(valid,'valid')],\n",
    "    early_stopping_rounds=100,maximize=True,\n",
    "    verbose_eval=50)"
   ]
  },
  {
   "cell_type": "code",
   "execution_count": 3,
   "metadata": {},
   "outputs": [
    {
     "ename": "TypeError",
     "evalue": "save_model() missing 1 required positional argument: 'fname'",
     "output_type": "error",
     "traceback": [
      "\u001b[0;31m---------------------------------------------------------------------------\u001b[0m",
      "\u001b[0;31mTypeError\u001b[0m                                 Traceback (most recent call last)",
      "\u001b[0;32m<ipython-input-3-16f18ed121df>\u001b[0m in \u001b[0;36m<module>\u001b[0;34m\u001b[0m\n\u001b[0;32m----> 1\u001b[0;31m \u001b[0mclf\u001b[0m\u001b[0;34m.\u001b[0m\u001b[0msave_model\u001b[0m\u001b[0;34m(\u001b[0m\u001b[0;34m)\u001b[0m\u001b[0;34m\u001b[0m\u001b[0;34m\u001b[0m\u001b[0m\n\u001b[0m",
      "\u001b[0;31mTypeError\u001b[0m: save_model() missing 1 required positional argument: 'fname'"
     ]
    }
   ],
   "source": [
    "clf.save_model()"
   ]
  },
  {
   "cell_type": "code",
   "execution_count": 4,
   "metadata": {},
   "outputs": [
    {
     "ename": "AttributeError",
     "evalue": "'Booster' object has no attribute 'save_config'",
     "output_type": "error",
     "traceback": [
      "\u001b[0;31m---------------------------------------------------------------------------\u001b[0m",
      "\u001b[0;31mAttributeError\u001b[0m                            Traceback (most recent call last)",
      "\u001b[0;32m<ipython-input-4-5414791fb977>\u001b[0m in \u001b[0;36m<module>\u001b[0;34m\u001b[0m\n\u001b[0;32m----> 1\u001b[0;31m \u001b[0mclf\u001b[0m\u001b[0;34m.\u001b[0m\u001b[0msave_config\u001b[0m\u001b[0;34m(\u001b[0m\u001b[0;34m)\u001b[0m\u001b[0;34m\u001b[0m\u001b[0;34m\u001b[0m\u001b[0m\n\u001b[0m",
      "\u001b[0;31mAttributeError\u001b[0m: 'Booster' object has no attribute 'save_config'"
     ]
    }
   ],
   "source": [
    "clf.save_config()"
   ]
  },
  {
   "cell_type": "code",
   "execution_count": 5,
   "metadata": {},
   "outputs": [
    {
     "ename": "AttributeError",
     "evalue": "'Booster' object has no attribute 'load_config'",
     "output_type": "error",
     "traceback": [
      "\u001b[0;31m---------------------------------------------------------------------------\u001b[0m",
      "\u001b[0;31mAttributeError\u001b[0m                            Traceback (most recent call last)",
      "\u001b[0;32m<ipython-input-5-2395f91cc106>\u001b[0m in \u001b[0;36m<module>\u001b[0;34m\u001b[0m\n\u001b[0;32m----> 1\u001b[0;31m \u001b[0mclf\u001b[0m\u001b[0;34m.\u001b[0m\u001b[0mload_config\u001b[0m\u001b[0;34m(\u001b[0m\u001b[0;34m)\u001b[0m\u001b[0;34m\u001b[0m\u001b[0;34m\u001b[0m\u001b[0m\n\u001b[0m",
      "\u001b[0;31mAttributeError\u001b[0m: 'Booster' object has no attribute 'load_config'"
     ]
    }
   ],
   "source": [
    "clf.load_config()"
   ]
  },
  {
   "cell_type": "code",
   "execution_count": 6,
   "metadata": {},
   "outputs": [
    {
     "data": {
      "text/plain": [
       "'0:[f6<1.07490039] yes=1,no=2,missing=1\\n\\t1:[f146<2.65916944] yes=3,no=4,missing=3\\n\\t\\t3:[f98<-1.60144949] yes=7,no=8,missing=8\\n\\t\\t\\t7:[f183<-0.297174633] yes=15,no=16,missing=15\\n\\t\\t\\t\\t15:[f132<-0.733896315] yes=31,no=32,missing=31\\n\\t\\t\\t\\t\\t31:[f197<-0.291383445] yes=63,no=64,missing=63\\n\\t\\t\\t\\t\\t\\t63:[f87<0.69799453] yes=119,no=120,missing=119\\n\\t\\t\\t\\t\\t\\t\\t119:[f109<0.10815119] yes=203,no=204,missing=203\\n\\t\\t\\t\\t\\t\\t\\t\\t203:[f118<-1.67657781] yes=343,no=344,missing=343\\n\\t\\t\\t\\t\\t\\t\\t\\t\\t343:[f5<0.3386392] yes=581,no=582,missing=581\\n\\t\\t\\t\\t\\t\\t\\t\\t\\t\\t581:leaf=-0.0266666673\\n\\t\\t\\t\\t\\t\\t\\t\\t\\t\\t582:leaf=-0\\n\\t\\t\\t\\t\\t\\t\\t\\t\\t344:[f149<-1.26832664] yes=583,no=584,missing=583\\n\\t\\t\\t\\t\\t\\t\\t\\t\\t\\t583:[f9<-0.552621424] yes=959,no=960,missing=959\\n\\t\\t\\t\\t\\t\\t\\t\\t\\t\\t\\t959:leaf=0.0254545435\\n\\t\\t\\t\\t\\t\\t\\t\\t\\t\\t\\t960:[f205<0.645597756] yes=1533,no=1534,missing=1533\\n\\t\\t\\t\\t\\t\\t\\t\\t\\t\\t\\t\\t1533:leaf=-0.0311111119\\n\\t\\t\\t\\t\\t\\t\\t\\t\\t\\t\\t\\t1534:leaf=-0\\n\\t\\t\\t\\t\\t\\t\\t\\t\\t\\t584:[f18<-0.0596697591] yes=961,no=962,missing=961\\n\\t\\t\\t\\t\\t\\t\\t\\t\\t\\t\\t961:[f100<1.02023804] yes=1535,no=1536,missing=1535\\n\\t\\t\\t\\t\\t\\t\\t\\t\\t\\t\\t\\t1535:leaf=0.0254545435\\n\\t\\t\\t\\t\\t\\t\\t\\t\\t\\t\\t\\t'"
      ]
     },
     "execution_count": 6,
     "metadata": {},
     "output_type": "execute_result"
    }
   ],
   "source": [
    "clf.get_dump(fmap='', with_stats=False, dump_format='text')[0][:1000]"
   ]
  },
  {
   "cell_type": "code",
   "execution_count": 7,
   "metadata": {},
   "outputs": [
    {
     "name": "stdout",
     "output_type": "stream",
     "text": [
      "XGBoost version: 1.0.0-SNAPSHOT\n"
     ]
    },
    {
     "name": "stderr",
     "output_type": "stream",
     "text": [
      "/home/chris/anaconda3/envs/rapids3/lib/python3.7/site-packages/sklearn/base.py:197: FutureWarning: From version 0.24, get_params will raise an AttributeError if a parameter cannot be retrieved as an instance attribute. Previously it would return None.\n",
      "  FutureWarning)\n"
     ]
    },
    {
     "name": "stdout",
     "output_type": "stream",
     "text": [
      "[0]\tvalidation_0-auc:0.55677\tvalidation_1-auc:0.50100\n",
      "Multiple eval metrics have been passed: 'validation_1-auc' will be used for early stopping.\n",
      "\n",
      "Will train until validation_1-auc hasn't improved in 100 rounds.\n",
      "[19]\tvalidation_0-auc:0.84683\tvalidation_1-auc:0.49953\n"
     ]
    }
   ],
   "source": [
    "import xgboost as xgb\n",
    "print(\"XGBoost version:\", xgb.__version__)\n",
    "\n",
    "clf = xgb.XGBClassifier( \n",
    "    n_estimators=20,\n",
    "    max_depth=12, \n",
    "    learning_rate=0.02, \n",
    "    subsample=0.8,\n",
    "    colsample_bytree=0.4, \n",
    "    missing=-1, \n",
    "    eval_metric='auc',\n",
    "    tree_method='gpu_hist' \n",
    ")\n",
    "h = clf.fit(X_train[:split,:-1], X_train[:split,-1], \n",
    "    eval_set=[(X_train[:split,:-1], X_train[:split,-1]),\\\n",
    "                (X_train[split:,:-1], X_train[split:,-1])],\n",
    "    verbose=50, early_stopping_rounds=100)"
   ]
  },
  {
   "cell_type": "code",
   "execution_count": 8,
   "metadata": {},
   "outputs": [
    {
     "ename": "TypeError",
     "evalue": "save_model() missing 1 required positional argument: 'fname'",
     "output_type": "error",
     "traceback": [
      "\u001b[0;31m---------------------------------------------------------------------------\u001b[0m",
      "\u001b[0;31mTypeError\u001b[0m                                 Traceback (most recent call last)",
      "\u001b[0;32m<ipython-input-8-d7059d9c7181>\u001b[0m in \u001b[0;36m<module>\u001b[0;34m\u001b[0m\n\u001b[0;32m----> 1\u001b[0;31m \u001b[0mclf\u001b[0m\u001b[0;34m.\u001b[0m\u001b[0mget_booster\u001b[0m\u001b[0;34m(\u001b[0m\u001b[0;34m)\u001b[0m\u001b[0;34m.\u001b[0m\u001b[0msave_model\u001b[0m\u001b[0;34m(\u001b[0m\u001b[0;34m)\u001b[0m\u001b[0;34m\u001b[0m\u001b[0;34m\u001b[0m\u001b[0m\n\u001b[0m",
      "\u001b[0;31mTypeError\u001b[0m: save_model() missing 1 required positional argument: 'fname'"
     ]
    }
   ],
   "source": [
    "clf.get_booster().save_model()"
   ]
  },
  {
   "cell_type": "code",
   "execution_count": 9,
   "metadata": {},
   "outputs": [
    {
     "ename": "AttributeError",
     "evalue": "'Booster' object has no attribute 'save_config'",
     "output_type": "error",
     "traceback": [
      "\u001b[0;31m---------------------------------------------------------------------------\u001b[0m",
      "\u001b[0;31mAttributeError\u001b[0m                            Traceback (most recent call last)",
      "\u001b[0;32m<ipython-input-9-96fdff4b0511>\u001b[0m in \u001b[0;36m<module>\u001b[0;34m\u001b[0m\n\u001b[0;32m----> 1\u001b[0;31m \u001b[0mclf\u001b[0m\u001b[0;34m.\u001b[0m\u001b[0mget_booster\u001b[0m\u001b[0;34m(\u001b[0m\u001b[0;34m)\u001b[0m\u001b[0;34m.\u001b[0m\u001b[0msave_config\u001b[0m\u001b[0;34m(\u001b[0m\u001b[0;34m)\u001b[0m\u001b[0;34m\u001b[0m\u001b[0;34m\u001b[0m\u001b[0m\n\u001b[0m",
      "\u001b[0;31mAttributeError\u001b[0m: 'Booster' object has no attribute 'save_config'"
     ]
    }
   ],
   "source": [
    "clf.get_booster().save_config()"
   ]
  },
  {
   "cell_type": "code",
   "execution_count": 10,
   "metadata": {},
   "outputs": [
    {
     "ename": "AttributeError",
     "evalue": "'Booster' object has no attribute 'load_config'",
     "output_type": "error",
     "traceback": [
      "\u001b[0;31m---------------------------------------------------------------------------\u001b[0m",
      "\u001b[0;31mAttributeError\u001b[0m                            Traceback (most recent call last)",
      "\u001b[0;32m<ipython-input-10-66e7b4bfef48>\u001b[0m in \u001b[0;36m<module>\u001b[0;34m\u001b[0m\n\u001b[0;32m----> 1\u001b[0;31m \u001b[0mclf\u001b[0m\u001b[0;34m.\u001b[0m\u001b[0mget_booster\u001b[0m\u001b[0;34m(\u001b[0m\u001b[0;34m)\u001b[0m\u001b[0;34m.\u001b[0m\u001b[0mload_config\u001b[0m\u001b[0;34m(\u001b[0m\u001b[0;34m)\u001b[0m\u001b[0;34m\u001b[0m\u001b[0;34m\u001b[0m\u001b[0m\n\u001b[0m",
      "\u001b[0;31mAttributeError\u001b[0m: 'Booster' object has no attribute 'load_config'"
     ]
    }
   ],
   "source": [
    "clf.get_booster().load_config()"
   ]
  },
  {
   "cell_type": "code",
   "execution_count": 11,
   "metadata": {},
   "outputs": [
    {
     "data": {
      "text/plain": [
       "'0:[f6<1.07490039] yes=1,no=2,missing=1\\n\\t1:[f146<2.65916944] yes=3,no=4,missing=3\\n\\t\\t3:[f98<-1.60144949] yes=7,no=8,missing=8\\n\\t\\t\\t7:[f183<-0.297174633] yes=15,no=16,missing=15\\n\\t\\t\\t\\t15:[f132<-0.733896315] yes=31,no=32,missing=31\\n\\t\\t\\t\\t\\t31:[f197<-0.291383445] yes=63,no=64,missing=63\\n\\t\\t\\t\\t\\t\\t63:[f87<0.69799453] yes=119,no=120,missing=119\\n\\t\\t\\t\\t\\t\\t\\t119:[f109<0.10815119] yes=203,no=204,missing=203\\n\\t\\t\\t\\t\\t\\t\\t\\t203:[f118<-1.67657781] yes=343,no=344,missing=343\\n\\t\\t\\t\\t\\t\\t\\t\\t\\t343:[f5<0.3386392] yes=581,no=582,missing=581\\n\\t\\t\\t\\t\\t\\t\\t\\t\\t\\t581:leaf=-0.0266666673\\n\\t\\t\\t\\t\\t\\t\\t\\t\\t\\t582:leaf=-0\\n\\t\\t\\t\\t\\t\\t\\t\\t\\t344:[f149<-1.26832664] yes=583,no=584,missing=583\\n\\t\\t\\t\\t\\t\\t\\t\\t\\t\\t583:[f9<-0.552621424] yes=959,no=960,missing=959\\n\\t\\t\\t\\t\\t\\t\\t\\t\\t\\t\\t959:leaf=0.0254545435\\n\\t\\t\\t\\t\\t\\t\\t\\t\\t\\t\\t960:[f205<0.645597756] yes=1533,no=1534,missing=1533\\n\\t\\t\\t\\t\\t\\t\\t\\t\\t\\t\\t\\t1533:leaf=-0.0311111119\\n\\t\\t\\t\\t\\t\\t\\t\\t\\t\\t\\t\\t1534:leaf=-0\\n\\t\\t\\t\\t\\t\\t\\t\\t\\t\\t584:[f18<-0.0596697591] yes=961,no=962,missing=961\\n\\t\\t\\t\\t\\t\\t\\t\\t\\t\\t\\t961:[f100<1.02023804] yes=1535,no=1536,missing=1535\\n\\t\\t\\t\\t\\t\\t\\t\\t\\t\\t\\t\\t1535:leaf=0.0254545435\\n\\t\\t\\t\\t\\t\\t\\t\\t\\t\\t\\t\\t'"
      ]
     },
     "execution_count": 11,
     "metadata": {},
     "output_type": "execute_result"
    }
   ],
   "source": [
    "clf.get_booster().get_dump(fmap='', with_stats=False, dump_format='text')[0][:1000]"
   ]
  }
 ],
 "metadata": {
  "kernelspec": {
   "display_name": "Python 3",
   "language": "python",
   "name": "python3"
  },
  "language_info": {
   "codemirror_mode": {
    "name": "ipython",
    "version": 3
   },
   "file_extension": ".py",
   "mimetype": "text/x-python",
   "name": "python",
   "nbconvert_exporter": "python",
   "pygments_lexer": "ipython3",
   "version": "3.7.6"
  }
 },
 "nbformat": 4,
 "nbformat_minor": 1
}
