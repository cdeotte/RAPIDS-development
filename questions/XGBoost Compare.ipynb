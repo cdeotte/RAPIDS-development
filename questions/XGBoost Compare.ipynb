{
 "cells": [
  {
   "cell_type": "markdown",
   "metadata": {},
   "source": [
    "# XGBoost Compare\n",
    "What parameters do I need to set for Python API to match the validation accuracy of Scikit-learn API? The dataset `data.npy` can be downloaded from Google Drive if needed here:\n",
    "\n",
    "https://drive.google.com/open?id=1gUQ7z2lNNsSCYCxInFqNMyUaQGB63zB9"
   ]
  },
  {
   "cell_type": "code",
   "execution_count": 10,
   "metadata": {},
   "outputs": [
    {
     "data": {
      "text/plain": [
       "(590540, 217)"
      ]
     },
     "execution_count": 10,
     "metadata": {},
     "output_type": "execute_result"
    }
   ],
   "source": [
    "import numpy, cudf, cupy\n",
    "X = numpy.load('data.npy')\n",
    "X_train = cudf.DataFrame.from_gpu_matrix( cupy.asarray(X) )\n",
    "split = 3*len(X_train)//4\n",
    "X_train.shape"
   ]
  },
  {
   "cell_type": "code",
   "execution_count": 9,
   "metadata": {},
   "outputs": [
    {
     "name": "stdout",
     "output_type": "stream",
     "text": [
      "XGBoost version: 1.0.0-SNAPSHOT\n",
      "[0]\ttrain-auc:0.86773\tvalid-auc:0.81684\n",
      "Multiple eval metrics have been passed: 'valid-auc' will be used for early stopping.\n",
      "\n",
      "Will train until valid-auc hasn't improved in 100 rounds.\n",
      "[50]\ttrain-auc:0.91358\tvalid-auc:0.87507\n",
      "[100]\ttrain-auc:0.93154\tvalid-auc:0.88947\n",
      "[150]\ttrain-auc:0.94443\tvalid-auc:0.89634\n",
      "[200]\ttrain-auc:0.95914\tvalid-auc:0.90377\n",
      "[250]\ttrain-auc:0.97378\tvalid-auc:0.91124\n",
      "[300]\ttrain-auc:0.98300\tvalid-auc:0.91501\n",
      "[350]\ttrain-auc:0.98819\tvalid-auc:0.91609\n",
      "[400]\ttrain-auc:0.99130\tvalid-auc:0.91739\n",
      "[450]\ttrain-auc:0.99360\tvalid-auc:0.91818\n",
      "[500]\ttrain-auc:0.99505\tvalid-auc:0.91844\n",
      "[550]\ttrain-auc:0.99621\tvalid-auc:0.91851\n",
      "[600]\ttrain-auc:0.99713\tvalid-auc:0.91912\n",
      "[650]\ttrain-auc:0.99780\tvalid-auc:0.91831\n",
      "Stopping. Best iteration:\n",
      "[585]\ttrain-auc:0.99688\tvalid-auc:0.91917\n",
      "\n"
     ]
    }
   ],
   "source": [
    "import xgboost as xgb\n",
    "print(\"XGBoost version:\", xgb.__version__)\n",
    "\n",
    "xgb_parms = { \n",
    "    'n_estimators':2000,\n",
    "    'max_depth':12, \n",
    "    'learning_rate':0.02, \n",
    "    'subsample':0.8,\n",
    "    'colsample_bytree':0.4, \n",
    "    'missing':-1, \n",
    "    'eval_metric':'auc',\n",
    "    'tree_method':'gpu_hist' \n",
    "}\n",
    "train = xgb.DMatrix(data=X_train.iloc[:split,:-1],label=X_train.iloc[:split,-1])\n",
    "valid = xgb.DMatrix(data=X_train.iloc[split:,:-1],label=X_train.iloc[split:,-1])\n",
    "clf = xgb.train(xgb_parms, dtrain=train,\n",
    "    num_boost_round=2000,evals=[(train,'train'),(valid,'valid')],\n",
    "    early_stopping_rounds=100,maximize=True,\n",
    "    verbose_eval=50)"
   ]
  },
  {
   "cell_type": "code",
   "execution_count": 12,
   "metadata": {},
   "outputs": [
    {
     "name": "stdout",
     "output_type": "stream",
     "text": [
      "XGBoost version: 1.0.0-SNAPSHOT\n"
     ]
    },
    {
     "name": "stderr",
     "output_type": "stream",
     "text": [
      "/home/chris/anaconda3/envs/rapids3/lib/python3.7/site-packages/sklearn/base.py:197: FutureWarning: From version 0.24, get_params will raise an AttributeError if a parameter cannot be retrieved as an instance attribute. Previously it would return None.\n",
      "  FutureWarning)\n"
     ]
    },
    {
     "name": "stdout",
     "output_type": "stream",
     "text": [
      "[0]\tvalidation_0-auc:0.86434\tvalidation_1-auc:0.82828\n",
      "Multiple eval metrics have been passed: 'validation_1-auc' will be used for early stopping.\n",
      "\n",
      "Will train until validation_1-auc hasn't improved in 100 rounds.\n",
      "[50]\tvalidation_0-auc:0.91345\tvalidation_1-auc:0.87605\n",
      "[100]\tvalidation_0-auc:0.94021\tvalidation_1-auc:0.89421\n",
      "[150]\tvalidation_0-auc:0.95937\tvalidation_1-auc:0.90838\n",
      "[200]\tvalidation_0-auc:0.97598\tvalidation_1-auc:0.91897\n",
      "[250]\tvalidation_0-auc:0.98571\tvalidation_1-auc:0.92563\n",
      "[300]\tvalidation_0-auc:0.99142\tvalidation_1-auc:0.93043\n",
      "[350]\tvalidation_0-auc:0.99471\tvalidation_1-auc:0.93317\n",
      "[400]\tvalidation_0-auc:0.99663\tvalidation_1-auc:0.93468\n",
      "[450]\tvalidation_0-auc:0.99769\tvalidation_1-auc:0.93553\n",
      "[500]\tvalidation_0-auc:0.99832\tvalidation_1-auc:0.93601\n",
      "[550]\tvalidation_0-auc:0.99879\tvalidation_1-auc:0.93628\n",
      "[600]\tvalidation_0-auc:0.99910\tvalidation_1-auc:0.93637\n",
      "Stopping. Best iteration:\n",
      "[537]\tvalidation_0-auc:0.99868\tvalidation_1-auc:0.93642\n",
      "\n"
     ]
    }
   ],
   "source": [
    "import xgboost as xgb\n",
    "print(\"XGBoost version:\", xgb.__version__)\n",
    "\n",
    "clf = xgb.XGBClassifier( \n",
    "    n_estimators=2000,\n",
    "    max_depth=12, \n",
    "    learning_rate=0.02, \n",
    "    subsample=0.8,\n",
    "    colsample_bytree=0.4, \n",
    "    missing=-1, \n",
    "    eval_metric='auc',\n",
    "    tree_method='gpu_hist' \n",
    ")\n",
    "h = clf.fit(X_train.iloc[:split,:-1].to_pandas(), X_train.iloc[:split,-1].to_pandas(), \n",
    "    eval_set=[(X_train.iloc[:split,:-1].to_pandas(), X_train.iloc[:split,-1].to_pandas()),\\\n",
    "                (X_train.iloc[split:,:-1].to_pandas(), X_train.iloc[split:,-1].to_pandas())],\n",
    "    verbose=50, early_stopping_rounds=100)"
   ]
  }
 ],
 "metadata": {
  "kernelspec": {
   "display_name": "Python 3",
   "language": "python",
   "name": "python3"
  },
  "language_info": {
   "codemirror_mode": {
    "name": "ipython",
    "version": 3
   },
   "file_extension": ".py",
   "mimetype": "text/x-python",
   "name": "python",
   "nbconvert_exporter": "python",
   "pygments_lexer": "ipython3",
   "version": "3.7.6"
  }
 },
 "nbformat": 4,
 "nbformat_minor": 1
}
